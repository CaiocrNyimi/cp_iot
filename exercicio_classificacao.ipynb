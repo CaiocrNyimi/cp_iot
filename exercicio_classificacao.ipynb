{
 "cells": [
  {
   "cell_type": "markdown",
   "metadata": {},
   "source": [
    "# Exercício 1 – Classificação Multiclasse com Keras e Scikit-learn\n",
    "\n",
    "Este notebook treina modelos para classificar vinhos em 3 categorias usando o Wine Dataset da UCI.\n",
    "\n",
    "A métrica de comparação será a **acurácia**."
   ]
  },
  {
   "cell_type": "code",
   "execution_count": null,
   "metadata": {},
   "outputs": [
    {
     "ename": "",
     "evalue": "",
     "output_type": "error",
     "traceback": [
      "\u001b[1;31mThe kernel failed to start as the Python Environment 'Python 3.10.11' is no longer available. Consider selecting another kernel or refreshing the list of Python Environments."
     ]
    }
   ],
   "source": [
    "# Instalar dependências\n",
    "!pip install numpy scikit-learn tensorflow pandas"
   ]
  },
  {
   "cell_type": "code",
   "execution_count": null,
   "metadata": {},
   "outputs": [],
   "source": [
    "# Importar bibliotecas\n",
    "import numpy as np\n",
    "import pandas as pd\n",
    "from sklearn.datasets import load_wine\n",
    "from sklearn.model_selection import train_test_split\n",
    "from sklearn.preprocessing import StandardScaler, OneHotEncoder\n",
    "from sklearn.ensemble import RandomForestClassifier\n",
    "from sklearn.metrics import accuracy_score\n",
    "import tensorflow as tf\n",
    "from tensorflow import keras\n",
    "from tensorflow.keras import layers"
   ]
  },
  {
   "cell_type": "code",
   "execution_count": null,
   "metadata": {},
   "outputs": [],
   "source": [
    "# Carregar o Wine Dataset da UCI\n",
    "data = load_wine()\n",
    "X = pd.DataFrame(data.data, columns=data.feature_names)\n",
    "y_raw = pd.DataFrame(data.target, columns=['target'])\n",
    "\n",
    "# Pré-processamento\n",
    "X_scaled = StandardScaler().fit_transform(X)\n",
    "y_encoded = OneHotEncoder(sparse_output=False).fit_transform(y_raw)\n",
    "\n",
    "X_train, X_test, y_train, y_test = train_test_split(X_scaled, y_encoded, test_size=0.2, random_state=42)"
   ]
  },
  {
   "cell_type": "code",
   "execution_count": null,
   "metadata": {},
   "outputs": [],
   "source": [
    "# Treinar rede neural com Keras\n",
    "model_keras = keras.Sequential([\n",
    "    layers.Dense(32, activation='relu', input_shape=(X.shape[1],)),\n",
    "    layers.Dense(32, activation='relu'),\n",
    "    layers.Dense(3, activation='softmax')\n",
    "])\n",
    "\n",
    "model_keras.compile(optimizer='adam', loss='categorical_crossentropy', metrics=['accuracy'])\n",
    "model_keras.fit(X_train, y_train, epochs=50, batch_size=16, verbose=0)\n",
    "loss, acc_keras = model_keras.evaluate(X_test, y_test)\n",
    "print(f\"Acurácia Keras: {acc_keras:.4f}\")"
   ]
  },
  {
   "cell_type": "code",
   "execution_count": null,
   "metadata": {},
   "outputs": [],
   "source": [
    "# Treinar modelo com Scikit-learn (RandomForest)\n",
    "y_class = y_raw.values.ravel()\n",
    "X_train2, X_test2, y_train2, y_test2 = train_test_split(X_scaled, y_class, test_size=0.2, random_state=42)\n",
    "\n",
    "model_rf = RandomForestClassifier()\n",
    "model_rf.fit(X_train2, y_train2)\n",
    "y_pred_rf = model_rf.predict(X_test2)\n",
    "acc_rf = accuracy_score(y_test2, y_pred_rf)\n",
    "print(f\"Acurácia RandomForest: {acc_rf:.4f}\")"
   ]
  },
  {
   "cell_type": "code",
   "execution_count": null,
   "metadata": {},
   "outputs": [],
   "source": [
    "# Comparação de desempenho\n",
    "print(\"\\nComparação de Modelos\")\n",
    "print(f\"Rede Neural (Keras): {acc_keras:.4f}\")\n",
    "print(f\"Random Forest (Scikit-learn): {acc_rf:.4f}\")"
   ]
  }
 ],
 "metadata": {
  "kernelspec": {
   "display_name": "tf_env",
   "language": "python",
   "name": "python3"
  },
  "language_info": {
   "codemirror_mode": {
    "name": "ipython",
    "version": 3
   },
   "file_extension": ".py",
   "mimetype": "text/x-python",
   "name": "python",
   "nbconvert_exporter": "python",
   "pygments_lexer": "ipython3",
   "version": "3.10.11"
  }
 },
 "nbformat": 4,
 "nbformat_minor": 2
}
